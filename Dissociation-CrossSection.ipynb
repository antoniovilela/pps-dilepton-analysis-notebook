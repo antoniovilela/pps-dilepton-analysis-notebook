{
 "cells": [
  {
   "cell_type": "code",
   "execution_count": 1,
   "id": "3d696e4c",
   "metadata": {},
   "outputs": [
    {
     "name": "stdout",
     "output_type": "stream",
     "text": [
      "['/eos/home-a/antoniov/SWAN_projects/env/uproot-py39/lib/python3.9/site-packages', '/cvmfs/sft.cern.ch/lcg/releases/condor/8.9.11-f6d1a/x86_64-centos7-gcc11-opt/lib/python3', '/cvmfs/sft.cern.ch/lcg/views/LCG_103swan/x86_64-centos7-gcc11-opt/lib/python3.9/site-packages/itk', '/cvmfs/sft.cern.ch/lcg/views/LCG_103swan/x86_64-centos7-gcc11-opt/python', '/cvmfs/sft.cern.ch/lcg/views/LCG_103swan/x86_64-centos7-gcc11-opt/lib', '', '/cvmfs/sft.cern.ch/lcg/views/LCG_103swan/x86_64-centos7-gcc11-opt/lib/python3.9/site-packages', '/srv/dask/lib', '/cvmfs/sft.cern.ch/lcg/releases/Python/3.9.6-b0f98/x86_64-centos7-gcc8-opt/lib/python39.zip', '/cvmfs/sft.cern.ch/lcg/releases/Python/3.9.6-b0f98/x86_64-centos7-gcc8-opt/lib/python3.9', '/cvmfs/sft.cern.ch/lcg/releases/Python/3.9.6-b0f98/x86_64-centos7-gcc8-opt/lib/python3.9/lib-dynload', '/eos/home-a/antoniov/SWAN_projects/env/uproot-py39/lib/python3.9/site-packages', '/cvmfs/sft.cern.ch/lcg/views/LCG_103swan/x86_64-centos7-gcc11-opt/lib/python3.9/site-packages/IPython/extensions', '/scratch/antoniov/.ipython']\n"
     ]
    }
   ],
   "source": [
    "import sys\n",
    "# sys.path.insert(0,'/eos/home-a/antoniov/SWAN_projects/env/uproot4/lib/python3.7/site-packages')\n",
    "# sys.path.insert(0,'/eos/home-a/antoniov/SWAN_projects/env/uproot/lib/python3.8/site-packages')\n",
    "sys.path.insert(0,'/eos/home-a/antoniov/SWAN_projects/env/uproot-py39/lib/python3.9/site-packages')\n",
    "print ( sys.path )\n",
    "\n",
    "import numpy as np\n",
    "import pandas as pd\n",
    "import h5py\n",
    "import matplotlib.pyplot as plt"
   ]
  },
  {
   "cell_type": "code",
   "execution_count": 3,
   "id": "46c7b7f1",
   "metadata": {},
   "outputs": [],
   "source": [
    "run_tables = False\n",
    "\n",
    "labels_signals = [\"Elastic\", \"SingleDissociation\"]\n",
    "\n",
    "fileNames_signals = {\n",
    "    'Elastic': [ 'output-MC2017-Elastic-Non3+3-PreSel.h5' ],\n",
    "    'SingleDissociation': [ 'output/output-MC2017-SingleDissociation-Non3+3-PreSel.h5' ]\n",
    "    }\n",
    "\n",
    "df_counts_signals = {}\n",
    "df_signals = {}\n",
    "\n",
    "for label in labels_signals:\n",
    "    if run_tables:\n",
    "        with pd.HDFStore( \"reduced-data-store-{}.h5\".format( label ), complevel=5 ) as store_:\n",
    "\n",
    "            df_counts_signal_, df_signal_ = get_data( fileNames_signals[ label ] )\n",
    "#             df_signal_ = process_data( df_signal_, proton_selection, min_mass = 110. )\n",
    "\n",
    "            store_[ \"counts\" ] = df_counts_signal_\n",
    "            store_[ \"df\" ] = df_signal_\n",
    "\n",
    "    with pd.HDFStore( \"reduced-data-store-{}.h5\".format( label ), 'r' ) as store_:\n",
    "        df_counts_signals[ label ] = store_[ \"counts\" ]\n",
    "        df_signals[ label ] = store_[ \"df\" ]\n",
    "        "
   ]
  },
  {
   "cell_type": "code",
   "execution_count": 4,
   "id": "f4c55925",
   "metadata": {},
   "outputs": [
    {
     "data": {
      "text/plain": [
       "{'Elastic': All        178402\n",
       " Muon       166756\n",
       " Vertex     149608\n",
       " Protons     91429\n",
       " dtype: int64,\n",
       " 'SingleDissociation': All        178174\n",
       " Muon       169697\n",
       " Vertex     158616\n",
       " Protons     56625\n",
       " dtype: int64}"
      ]
     },
     "execution_count": 4,
     "metadata": {},
     "output_type": "execute_result"
    }
   ],
   "source": [
    "df_counts_signals"
   ]
  },
  {
   "cell_type": "code",
   "execution_count": 6,
   "id": "56b2c056",
   "metadata": {},
   "outputs": [
    {
     "data": {
      "text/plain": [
       "Index(['Run', 'LumiSection', 'EventNum', 'Slice', 'CrossingAngle', 'MultiRP',\n",
       "       'Arm', 'RPId1', 'RPId2', 'TrackX1', 'TrackY1', 'TrackX2', 'TrackY2',\n",
       "       'TrackThX_SingleRP', 'TrackThY_SingleRP', 'Track1ThX_MultiRP',\n",
       "       'Track1ThY_MultiRP', 'Track2ThX_MultiRP', 'Track2ThY_MultiRP',\n",
       "       'TrackPixShift_SingleRP', 'Track1PixShift_MultiRP',\n",
       "       'Track2PixShift_MultiRP', 'Xi', 'T', 'ThX', 'ThY', 'Time', 'nVertices',\n",
       "       'PrimVertexZ', 'Muon0Pt', 'Muon0Eta', 'Muon0Phi', 'Muon0VtxZ',\n",
       "       'Muon1Pt', 'Muon1Eta', 'Muon1Phi', 'Muon1VtxZ', 'InvMass',\n",
       "       'ExtraPfCands', 'Acopl', 'XiMuMuPlus', 'XiMuMuMinus', 'XiMuMu', 'xlow',\n",
       "       'xhigh', 'ylow', 'yhigh'],\n",
       "      dtype='object')"
      ]
     },
     "execution_count": 6,
     "metadata": {},
     "output_type": "execute_result"
    }
   ],
   "source": [
    "df_signals[ 'Elastic' ].columns"
   ]
  },
  {
   "cell_type": "code",
   "execution_count": 13,
   "id": "9a42e1dc",
   "metadata": {},
   "outputs": [
    {
     "name": "stdout",
     "output_type": "stream",
     "text": [
      "3         0.000077\n",
      "6         0.000077\n",
      "16        0.000077\n",
      "19        0.000077\n",
      "24        0.000077\n",
      "            ...   \n",
      "213516    0.000077\n",
      "213519    0.000077\n",
      "213527    0.000077\n",
      "213530    0.000077\n",
      "213533    0.000077\n",
      "Name: norm, Length: 48051, dtype: float64\n",
      "8         0.000097\n",
      "12        0.000097\n",
      "21        0.000097\n",
      "24        0.000097\n",
      "28        0.000097\n",
      "            ...   \n",
      "132013    0.000097\n",
      "132016    0.000097\n",
      "132021    0.000097\n",
      "132025    0.000097\n",
      "132028    0.000097\n",
      "Name: norm, Length: 30593, dtype: float64\n"
     ]
    }
   ],
   "source": [
    "norm_factors = {}\n",
    "norm_factors['Elastic'] = np.array( [ ( 1. / ( 200000 ) ), 0.017254036*1000, 0.89 ] )\n",
    "norm_factors['SingleDissociation'] = np.array( [ ( 1. / ( 200000 ) ), 0.025643100*1000, 0.76 ] )\n",
    "for label in labels_signals:\n",
    "    df_signals[ label ][\"norm\"] = np.product( norm_factors[ label ] )\n",
    "    print ( df_signals[ label ][\"norm\"] )"
   ]
  },
  {
   "cell_type": "code",
   "execution_count": 27,
   "id": "e79b2ebc",
   "metadata": {},
   "outputs": [
    {
     "data": {
      "text/plain": [
       "(array([0.08575053, 0.05018355, 0.02816125, 0.01676033, 0.0093546 ]),\n",
       " array([ 500.,  600.,  700.,  800.,  900., 1000.], dtype=float32),\n",
       " [<matplotlib.patches.Polygon at 0x7fe6ff37dc40>])"
      ]
     },
     "execution_count": 27,
     "metadata": {},
     "output_type": "execute_result"
    },
    {
     "data": {
      "image/png": "[encoded data removed]",
      "text/plain": [
       "<Figure size 864x720 with 1 Axes>"
      ]
     },
     "metadata": {
      "needs_background": "light"
     },
     "output_type": "display_data"
    }
   ],
   "source": [
    "fig = plt.figure( figsize=(12,10) )\n",
    "bins_ = 5\n",
    "range_ = (500,1000)\n",
    "plt.hist( df_signals[ 'Elastic' ][\"InvMass\"], weights=df_signals[ 'Elastic' ][\"norm\"], histtype='step', bins=bins_, range=range_ )\n",
    "plt.hist( df_signals[ 'SingleDissociation' ][\"InvMass\"], weights=df_signals[ 'SingleDissociation' ][\"norm\"], histtype='step', bins=bins_, range=range_ )\n",
    "# plt.yscale( \"log\" )"
   ]
  },
  {
   "cell_type": "code",
   "execution_count": 28,
   "id": "a9898c93",
   "metadata": {},
   "outputs": [
    {
     "data": {
      "text/plain": [
       "(array([0.95618789, 1.09848385, 1.08193596, 1.09692967, 0.7002053 ]),\n",
       " array([ 500.,  600.,  700.,  800.,  900., 1000.], dtype=float32),\n",
       " [<matplotlib.patches.Polygon at 0x7fe6ff354b80>])"
      ]
     },
     "execution_count": 28,
     "metadata": {},
     "output_type": "execute_result"
    },
    {
     "data": {
      "image/png": "[encoded data removed]",
      "text/plain": [
       "<Figure size 864x720 with 1 Axes>"
      ]
     },
     "metadata": {
      "needs_background": "light"
     },
     "output_type": "display_data"
    }
   ],
   "source": [
    "fig = plt.figure( figsize=(12,10) )\n",
    "bins_ = 5\n",
    "range_ = (500,1000)\n",
    "sum_weights_Elastic, bin_edges_ =  np.histogram( df_signals[ 'Elastic' ][\"InvMass\"], weights=df_signals[ 'Elastic' ][\"norm\"], bins=bins_, range=range_ )\n",
    "sum_weights_SingleDissociation, bin_edges_ =  np.histogram( df_signals[ 'SingleDissociation' ][\"InvMass\"], weights=df_signals[ 'SingleDissociation' ][\"norm\"], bins=bins_, range=range_ )\n",
    "bin_centers_ = ( bin_edges_[:-1] + bin_edges_[1:] ) / 2.\n",
    "plt.hist( bin_centers_, weights=( sum_weights_SingleDissociation / sum_weights_Elastic ), histtype='step', bins=bins_, range=range_ )"
   ]
  },
  {
   "cell_type": "code",
   "execution_count": null,
   "id": "41e383aa",
   "metadata": {},
   "outputs": [],
   "source": []
  }
 ],
 "metadata": {
  "kernelspec": {
   "display_name": "Python 3",
   "language": "python",
   "name": "python3"
  },
  "language_info": {
   "codemirror_mode": {
    "name": "ipython",
    "version": 3
   },
   "file_extension": ".py",
   "mimetype": "text/x-python",
   "name": "python",
   "nbconvert_exporter": "python",
   "pygments_lexer": "ipython3",
   "version": "3.9.12"
  }
 },
 "nbformat": 4,
 "nbformat_minor": 5
}
