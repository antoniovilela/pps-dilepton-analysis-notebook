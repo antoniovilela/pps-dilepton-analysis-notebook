{
 "cells": [
  {
   "cell_type": "code",
   "execution_count": 1,
   "metadata": {},
   "outputs": [
    {
     "name": "stdout",
     "output_type": "stream",
     "text": [
      "Welcome to JupyROOT 6.22/06\n"
     ]
    }
   ],
   "source": [
    "import ROOT\n",
    "\n",
    "file = ROOT.TFile( \"reco_characteristics/reco_characteristics_version1.root\", \"READ\" )"
   ]
  },
  {
   "cell_type": "code",
   "execution_count": 2,
   "metadata": {},
   "outputs": [
    {
     "name": "stdout",
     "output_type": "stream",
     "text": [
      "TFile**\t\treco_characteristics/reco_characteristics_version1.root\t\n",
      " TFile*\t\treco_characteristics/reco_characteristics_version1.root\t\n",
      "  TDirectoryFile*\t\t2017_preTS2\t2017_preTS2\n",
      "   TDirectoryFile*\t\tmulti rp-0\tmulti rp-0\n",
      "    KEY: TDirectoryFile\txi;1\txi\n",
      "   KEY: TDirectoryFile\tsingle rp-2;1\tsingle rp-2\n",
      "   KEY: TDirectoryFile\tsingle rp-3;1\tsingle rp-3\n",
      "   KEY: TDirectoryFile\tsingle rp-23;1\tsingle rp-23\n",
      "   KEY: TDirectoryFile\tsingle rp-102;1\tsingle rp-102\n",
      "   KEY: TDirectoryFile\tsingle rp-103;1\tsingle rp-103\n",
      "   KEY: TDirectoryFile\tsingle rp-123;1\tsingle rp-123\n",
      "   KEY: TDirectoryFile\tmulti rp-0;1\tmulti rp-0\n",
      "   KEY: TDirectoryFile\tmulti rp-1;1\tmulti rp-1\n",
      "  KEY: TDirectoryFile\t2016_preTS2;1\t2016_preTS2\n",
      "  KEY: TDirectoryFile\t2016_postTS2;1\t2016_postTS2\n",
      "  KEY: TDirectoryFile\t2017_preTS2;1\t2017_preTS2\n",
      "  KEY: TDirectoryFile\t2017_postTS2;1\t2017_postTS2\n",
      "  KEY: TDirectoryFile\t2018_preTS1;1\t2018_preTS1\n",
      "  KEY: TDirectoryFile\t2018_TS1_TS2;1\t2018_TS1_TS2\n",
      "  KEY: TDirectoryFile\t2018_postTS2;1\t2018_postTS2\n"
     ]
    }
   ],
   "source": [
    "file.cd( \"2017_preTS2/multi rp-0\" )\n",
    "file.ls()"
   ]
  },
  {
   "cell_type": "code",
   "execution_count": null,
   "metadata": {},
   "outputs": [],
   "source": [
    "import numpy as np\n",
    "\n",
    "def get_reco_characteristics( file, period, arm=None, rp=None ):\n",
    "    \n",
    "    print ( file )\n",
    "    print ( period )\n",
    "    print ( arm )\n",
    "    print ( rp )\n",
    "    \n",
    "    algo_str_ = None\n",
    "    str_ = None\n",
    "    if arm is None and rp is not None:\n",
    "        algo_str_ = \"single rp\"\n",
    "        str_ = \"{}/{}-{}/xi/\".format( period, algo_str_, rp)\n",
    "    elif arm is not None and rp is None:\n",
    "        algo_str_ = \"multi rp\"\n",
    "        str_ = \"{}/{}-{}/xi/\".format( period, algo_str_, arm)\n",
    "    print ( str_ )\n",
    "    \n",
    "    g_bias_vs_xi_ = file.Get( str_ + \"g_bias_vs_xi\" )\n",
    "    g_resolution_vs_xi_ = file.Get( str_ + \"g_resolution_vs_xi\" )\n",
    "    g_systematics_vs_xi_ = file.Get( str_ + \"g_systematics_vs_xi\" )\n",
    "\n",
    "    bias_X = np.array( list( g_bias_vs_xi_.GetX() ) )\n",
    "    bias_Y = np.array( list( g_bias_vs_xi_.GetY() ) )\n",
    "    resolution_X = np.array( list( g_resolution_vs_xi_.GetX() ) )\n",
    "    resolution_Y = np.array( list( g_resolution_vs_xi_.GetY() ) )\n",
    "    systematics_X = np.array( list( g_systematics_vs_xi_.GetX() ) )\n",
    "    systematics_Y = np.array( list( g_systematics_vs_xi_.GetY() ) )\n",
    "    \n",
    "    return ( (bias_X, bias_Y), (resolution_X, resolution_Y), (systematics_X, systematics_Y) )\n"
   ]
  },
  {
   "cell_type": "code",
   "execution_count": null,
   "metadata": {},
   "outputs": [],
   "source": [
    "import matplotlib as mpl\n",
    "import matplotlib.pyplot as plt\n",
    "\n",
    "period = \"2017_postTS2\"\n",
    "arm = 1\n",
    "\n",
    "(bias_X, bias_Y), (resolution_X, resolution_Y), (systematics_X, systematics_Y) = get_reco_characteristics( file, period, arm=arm )\n",
    "\n",
    "print ( systematics_X, systematics_Y )\n",
    "\n",
    "fig = plt.figure( figsize=(12,10) )\n",
    "plt.plot( systematics_X, systematics_Y, 'o' )"
   ]
  },
  {
   "cell_type": "code",
   "execution_count": null,
   "metadata": {
    "scrolled": false
   },
   "outputs": [],
   "source": [
    "import numpy as np\n",
    "\n",
    "period = \"2017_postTS2\"\n",
    "\n",
    "systematics_X = {}\n",
    "systematics_Y = {}\n",
    "(bias_X_, bias_Y_), (resolution_X_, resolution_Y_), (systematics_X[0], systematics_Y[0]) = get_reco_characteristics( file, period, arm=0 )\n",
    "(bias_X_, bias_Y_), (resolution_X_, resolution_Y_), (systematics_X[1], systematics_Y[1]) = get_reco_characteristics( file, period, arm=1 )\n",
    "#print ( systematics_X, systematics_Y )\n",
    "\n",
    "for key_ in systematics_X:\n",
    "    systematics_X[ key_ ] = np.array( systematics_X[ key_ ] )\n",
    "    systematics_Y[ key_ ] = np.array( systematics_Y[ key_ ] )\n",
    "    idx_low_edge_ = ( systematics_Y[ key_ ] > 0. ).argmax()\n",
    "    #idx_high_edge_ = ( systematics_Y[ key_ ].size - ( systematics_Y[ key_ ][::-1] > 0. ).argmax() - 1 )\n",
    "    idx_low_edge_inv_ = ( systematics_Y[ key_ ][::-1] > 0. ).argmax()\n",
    "    print ( idx_low_edge_, systematics_Y[ key_ ][ idx_low_edge_ ] )\n",
    "    #print ( idx_high_edge_, systematics_Y[ key_ ][ idx_high_edge_ ] )\n",
    "    print ( idx_low_edge_inv_, systematics_Y[ key_ ][::-1][ idx_low_edge_inv_ ] )\n",
    "    systematics_Y[ key_ ][:idx_low_edge_] = systematics_Y[ key_ ][ idx_low_edge_ ]\n",
    "    systematics_Y[ key_ ][::-1][:idx_low_edge_inv_] = systematics_Y[ key_ ][::-1][ idx_low_edge_inv_ ]\n",
    "    \n",
    "print ( systematics_X, systematics_Y )\n",
    "\n",
    "fig = plt.figure( figsize=(12,10) )\n",
    "colors = ( 'lightblue', 'darkblue' )\n",
    "for idx_, key_ in enumerate( systematics_X ):\n",
    "    plt.plot( systematics_X[ key_ ], systematics_Y[ key_ ], 'o', color=colors[ idx_ ] )\n",
    "plt.xlabel( r\"$\\xi$\", fontsize=18 )\n",
    "plt.ylabel( r\"$\\Delta\\xi$\", fontsize=18 )"
   ]
  },
  {
   "cell_type": "code",
   "execution_count": null,
   "metadata": {},
   "outputs": [],
   "source": [
    "def get_systematics_vs_xi( data_periods, fileName=\"reco_characteristics/reco_characteristics_version1.root\" ):\n",
    "    \n",
    "    file_systematics_Xi = ROOT.TFile( fileName, \"READ\" )\n",
    "    \n",
    "    aperture_systematics_Xi_period_map = aperture_period_map\n",
    "    \n",
    "    systematics_Xi_X = {}\n",
    "    systematics_Xi_Y = {}\n",
    "    for idx_, period_ in enumerate( data_periods ):\n",
    "        systematics_Xi_X[ period_ ] = {}\n",
    "        systematics_Xi_Y[ period_ ] = {}\n",
    "        for arm_ in (0,1):\n",
    "            (bias_X_, bias_Y_), (resolution_X_, resolution_Y_), (systematics_Xi_X_, systematics_Xi_Y_) = get_reco_characteristics( file_systematics_Xi, period=aperture_systematics_Xi_period_map[ period_ ], arm=arm_ )\n",
    "            systematics_Xi_X[ period_ ][ arm_ ] = systematics_Xi_X_\n",
    "            systematics_Xi_Y[ period_ ][ arm_ ] = systematics_Xi_Y_\n",
    "            idx_low_edge_ = ( systematics_Xi_Y[ period_ ][ arm_ ] > 0. ).argmax()\n",
    "            idx_low_edge_inv_ = ( systematics_Xi_Y[ period_ ][ arm_ ][::-1] > 0. ).argmax()\n",
    "            print ( idx_low_edge_, systematics_Xi_Y[ period_ ][ arm_ ][ idx_low_edge_ ] )\n",
    "            print ( idx_low_edge_inv_, systematics_Xi_Y[ period_ ][ arm_ ][::-1][ idx_low_edge_inv_ ] )\n",
    "            systematics_Xi_Y[ period_ ][ arm_ ][:idx_low_edge_] = systematics_Xi_Y[ period_ ][ arm_ ][ idx_low_edge_ ]\n",
    "            systematics_Xi_Y[ period_ ][ arm_ ][::-1][:idx_low_edge_inv_] = systematics_Xi_Y[ period_ ][ arm_ ][::-1][ idx_low_edge_inv_ ]\n",
    "        \n",
    "    return ( systematics_Xi_X, systematics_Xi_Y )\n"
   ]
  },
  {
   "cell_type": "code",
   "execution_count": null,
   "metadata": {
    "scrolled": false
   },
   "outputs": [],
   "source": [
    "from processing import aperture_period_map\n",
    "\n",
    "data_periods = [ \"2017B\", \"2017C1\", \"2017C2\", \"2017D\", \"2017E\", \"2017F1\", \"2017F2\", \"2017F3\" ]\n",
    "\n",
    "# per period, arm\n",
    "systematics = {}\n",
    "systematics[ \"Xi\" ] = get_systematics_vs_xi( data_periods, fileName=\"reco_characteristics/reco_characteristics_version1.root\" )\n",
    "\n",
    "systematics"
   ]
  },
  {
   "cell_type": "code",
   "execution_count": null,
   "metadata": {},
   "outputs": [],
   "source": [
    "import h5py\n",
    "\n",
    "var_ = \"Xi\"\n",
    "with h5py.File( \"reco_characteristics/reco_characteristics_version1.h5\", 'w' ) as f:\n",
    "    systematics_X_ = systematics[ var_ ][0]\n",
    "    systematics_Y_ = systematics[ var_ ][1]\n",
    "    for period_ in systematics_X_:\n",
    "        for arm_ in systematics_X_[ period_ ]:\n",
    "            dset_name_ = \"{}/{}/{}/X\".format( var_, period_, arm_ )\n",
    "            print ( \"Creating dataset {}.\".format( dset_name_ ) )\n",
    "            dset_X = f.create_dataset( dset_name_, data=systematics_X_[ period_ ][ arm_ ] )\n",
    "            print ( dset_X )\n",
    "            \n",
    "            dset_name_ = \"{}/{}/{}/Y\".format( var_, period_, arm_ )\n",
    "            print ( \"Creating dataset {}.\".format( dset_name_ ) )\n",
    "            dset_Y = f.create_dataset( dset_name_, data=systematics_Y_[ period_ ][ arm_ ] )\n",
    "            print ( dset_Y )"
   ]
  },
  {
   "cell_type": "code",
   "execution_count": null,
   "metadata": {},
   "outputs": [],
   "source": [
    "with h5py.File( \"reco_characteristics/reco_characteristics_version1.h5\", 'r' ) as f:\n",
    "    for key_ in f.keys():\n",
    "        print ( key_ )\n",
    "        for period_ in f[ key_ ]:\n",
    "            print ( period_ )\n",
    "            for arm_ in f[ key_ ][ period_ ]:\n",
    "                print ( arm_ )\n",
    "                print ( list( f[ key_ ][ period_ ][ arm_ ] ) )\n",
    "                print ( f[ key_ ][ period_ ][ arm_ ][ 'X' ] )\n",
    "                print ( f[ key_ ][ period_ ][ arm_ ][ 'X' ][:] )\n",
    "                print ( f[ key_ ][ period_ ][ arm_ ][ 'Y' ] )\n",
    "                print ( f[ key_ ][ period_ ][ arm_ ][ 'Y' ][:] )"
   ]
  },
  {
   "cell_type": "code",
   "execution_count": null,
   "metadata": {},
   "outputs": [],
   "source": []
  }
 ],
 "metadata": {
  "kernelspec": {
   "display_name": "Python 3",
   "language": "python",
   "name": "python3"
  },
  "language_info": {
   "codemirror_mode": {
    "name": "ipython",
    "version": 3
   },
   "file_extension": ".py",
   "mimetype": "text/x-python",
   "name": "python",
   "nbconvert_exporter": "python",
   "pygments_lexer": "ipython3",
   "version": "3.8.6"
  }
 },
 "nbformat": 4,
 "nbformat_minor": 4
}
