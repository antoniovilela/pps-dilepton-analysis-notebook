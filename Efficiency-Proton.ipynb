{
 "cells": [
  {
   "cell_type": "code",
   "execution_count": 1,
   "metadata": {},
   "outputs": [
    {
     "name": "stdout",
     "output_type": "stream",
     "text": [
      "Welcome to JupyROOT 6.20/06\n",
      "{'2017B': {'45': <ROOT.TH1F object (\"h45multitrackeff_2017B_avg_RP3\") at 0x6ce5860>, '56': <ROOT.TH1F object (\"h56multitrackeff_2017B_avg_RP103\") at 0x6e92f90>}, '2017C1': {'45': <ROOT.TH1F object (\"h45multitrackeff_2017C1_avg_RP3\") at 0x6ea04c0>, '56': <ROOT.TH1F object (\"h56multitrackeff_2017C1_avg_RP103\") at 0x6e1d6b0>}, '2017C2': {'45': <ROOT.TH1F object (\"h45multitrackeff_2017C2_avg_RP3\") at 0x6e28f60>, '56': <ROOT.TH1F object (\"h56multitrackeff_2017C2_avg_RP103\") at 0x6e30070>}, '2017D': {'45': <ROOT.TH1F object (\"h45multitrackeff_2017D_avg_RP3\") at 0x6e40f10>, '56': <ROOT.TH1F object (\"h56multitrackeff_2017D_avg_RP103\") at 0x6e50d20>}, '2017E': {'45': <ROOT.TH1F object (\"h45multitrackeff_2017E_avg_RP3\") at 0x6e37f50>, '56': <ROOT.TH1F object (\"h56multitrackeff_2017E_avg_RP103\") at 0x6ea0d60>}, '2017F1': {'45': <ROOT.TH1F object (\"h45multitrackeff_2017F1_avg_RP3\") at 0x6e62ea0>, '56': <ROOT.TH1F object (\"h56multitrackeff_2017F1_avg_RP103\") at 0x6e4c7a0>}, '2017F2': {'45': <ROOT.TH1F object (\"h45multitrackeff_2017F2_avg_RP3\") at 0x70e7b80>, '56': <ROOT.TH1F object (\"h56multitrackeff_2017F2_avg_RP103\") at 0x70f4440>}, '2017F3': {'45': <ROOT.TH1F object (\"h45multitrackeff_2017F3_avg_RP3\") at 0x7100fa0>, '56': <ROOT.TH1F object (\"h56multitrackeff_2017F3_avg_RP103\") at 0x6e5d9b0>}}\n",
      "{'2017B': {'45': <ROOT.TH2F object (\"hblahdiv\") at 0x6d6f100>, '56': <ROOT.TH2F object (\"hblahdiv\") at 0x6e92b60>}, '2017C1': {'45': <ROOT.TH2F object (\"hblahdiv\") at 0x6e9c9e0>, '56': <ROOT.TH2F object (\"hblahdiv\") at 0x6e1db10>}, '2017C2': {'45': <ROOT.TH2F object (\"hblahdiv\") at 0x6e293c0>, '56': <ROOT.TH2F object (\"hblahdiv\") at 0x6e30460>}, '2017D': {'45': <ROOT.TH2F object (\"hblahdiv\") at 0x6e41370>, '56': <ROOT.TH2F object (\"hblahdiv\") at 0x6e511e0>}, '2017E': {'45': <ROOT.TH2F object (\"hblahdiv\") at 0x6e383b0>, '56': <ROOT.TH2F object (\"hblahdiv\") at 0x6ea1220>}, '2017F1': {'45': <ROOT.TH2F object (\"hblahdiv\") at 0x6ea2930>, '56': <ROOT.TH2F object (\"hblahdiv\") at 0x6e4ccd0>}, '2017F2': {'45': <ROOT.TH2F object (\"hblahdiv\") at 0x6e4ddc0>, '56': <ROOT.TH2F object (\"hblahdiv\") at 0x70f4900>}, '2017F3': {'45': <ROOT.TH2F object (\"hblahdiv\") at 0x70fda90>, '56': <ROOT.TH2F object (\"hblahdiv\") at 0x6e5de10>}}\n",
      "{'2017B': {'45': <ROOT.TH2D object (\"h45_220_2017B_all_2D\") at 0x6db6300>, '56': <ROOT.TH2D object (\"h56_220_2017B_all_2D\") at 0x6e93380>}, '2017C1': {'45': <ROOT.TH2D object (\"h45_220_2017C1_all_2D\") at 0x6e1d020>, '56': <ROOT.TH2D object (\"h56_220_2017C1_all_2D\") at 0x6e26880>}, '2017C2': {'45': <ROOT.TH2D object (\"h45_220_2017C2_all_2D\") at 0x6e2f340>, '56': <ROOT.TH2D object (\"h56_220_2017C2_all_2D\") at 0x6e30ce0>}, '2017D': {'45': <ROOT.TH2D object (\"h45_220_2017D_all_2D\") at 0x6e50250>, '56': <ROOT.TH2D object (\"h56_220_2017D_all_2D\") at 0x6e51ae0>}, '2017E': {'45': <ROOT.TH2D object (\"h45_220_2017E_all_2D\") at 0x6e3a1c0>, '56': <ROOT.TH2D object (\"h56_220_2017E_all_2D\") at 0x6e77c10>}, '2017F1': {'45': <ROOT.TH2D object (\"h45_220_2017F1_all_2D\") at 0x6e4be20>, '56': <ROOT.TH2D object (\"h56_220_2017F1_all_2D\") at 0x6e70520>}, '2017F2': {'45': <ROOT.TH2D object (\"h45_220_2017F2_all_2D\") at 0x70f3ac0>, '56': <ROOT.TH2D object (\"h56_220_2017F2_all_2D\") at 0x70f51e0>}, '2017F3': {'45': <ROOT.TH2D object (\"h45_220_2017F3_all_2D\") at 0x70fe4a0>, '56': <ROOT.TH2D object (\"h56_220_2017F3_all_2D\") at 0x6e5e520>}}\n"
     ]
    }
   ],
   "source": [
    "import ROOT\n",
    "\n",
    "file_eff_strips = ROOT.TFile.Open( \"./efficiencies/Strips/StripsTracking/PreliminaryEfficiencies_July132020_1D2DMultiTrack.root\", \"READ\" )\n",
    "file_eff_multiRP = ROOT.TFile.Open( \"./efficiencies/Pixel/RPixTracking/pixelEfficiencies_multiRP.root\", \"READ\" )\n",
    "\n",
    "data_periods = [ \"2017B\", \"2017C1\", \"2017C2\", \"2017D\", \"2017E\", \"2017F1\", \"2017F2\", \"2017F3\" ]\n",
    "years = [ period[:4] for period in data_periods ]\n",
    "\n",
    "strips_multitrack_efficiency = {}\n",
    "strips_sensor_efficiency = {}\n",
    "multiRP_efficiency = {}\n",
    "\n",
    "# Retrieve histograms from files and save them in dictionaries for future usage\n",
    "for idx_, period_ in enumerate( data_periods ):\n",
    "    strips_multitrack_efficiency[ period_ ] = {}\n",
    "    strips_sensor_efficiency[ period_ ] = {}\n",
    "    multiRP_efficiency[ period_ ] = {}\n",
    "    year = years[ idx_ ]\n",
    "    for sector in [\"45\",\"56\"]:\n",
    "        rp_number_strips = \"3\" if sector == \"45\" else \"103\"\n",
    "\n",
    "        strips_multitrack_efficiency[ period_ ][ sector ] = file_eff_strips.Get(\n",
    "            \"Strips/\" + year + \"/\" + period_ + \"/h\" + sector + \"multitrackeff_\" + period_ + \"_avg_RP\" + rp_number_strips\n",
    "            )\n",
    "\n",
    "        strips_sensor_efficiency[ period_ ][ sector ] = file_eff_strips.Get(\n",
    "            \"Strips/\" + year + \"/\" + period_ + \"/h\" + sector + \"_\" + period_ + \"_all_2D\"\n",
    "            )\n",
    "        \n",
    "        multiRP_efficiency[ period_ ][ sector ] = file_eff_multiRP.Get(\n",
    "            \"Pixel/\" + year + \"/\" + period_ + \"/h\" + sector + \"_220_\" + period_ + \"_all_2D\"\n",
    "            )\n",
    "print ( strips_multitrack_efficiency )\n",
    "print ( strips_sensor_efficiency )\n",
    "print ( multiRP_efficiency )"
   ]
  },
  {
   "cell_type": "code",
   "execution_count": null,
   "metadata": {},
   "outputs": [],
   "source": []
  }
 ],
 "metadata": {
  "kernelspec": {
   "display_name": "Python 3",
   "language": "python",
   "name": "python3"
  },
  "language_info": {
   "codemirror_mode": {
    "name": "ipython",
    "version": 3
   },
   "file_extension": ".py",
   "mimetype": "text/x-python",
   "name": "python",
   "nbconvert_exporter": "python",
   "pygments_lexer": "ipython3",
   "version": "3.8.6"
  }
 },
 "nbformat": 4,
 "nbformat_minor": 4
}
